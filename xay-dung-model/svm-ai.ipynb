{
 "cells": [
  {
   "cell_type": "code",
   "execution_count": 1,
   "id": "896768e3",
   "metadata": {
    "execution": {
     "iopub.execute_input": "2025-05-11T11:25:13.535974Z",
     "iopub.status.busy": "2025-05-11T11:25:13.535626Z",
     "iopub.status.idle": "2025-05-11T11:25:18.935242Z",
     "shell.execute_reply": "2025-05-11T11:25:18.934349Z"
    },
    "id": "B4x7zs64fNP0",
    "outputId": "63dba884-a2a3-4f65-8f76-94c014fe20d5",
    "papermill": {
     "duration": 5.410254,
     "end_time": "2025-05-11T11:25:18.937156",
     "exception": false,
     "start_time": "2025-05-11T11:25:13.526902",
     "status": "completed"
    },
    "tags": []
   },
   "outputs": [
    {
     "name": "stderr",
     "output_type": "stream",
     "text": [
      "[nltk_data] Downloading package stopwords to /usr/share/nltk_data...\n",
      "[nltk_data]   Package stopwords is already up-to-date!\n",
      "[nltk_data] Downloading package punkt_tab to /usr/share/nltk_data...\n",
      "[nltk_data]   Package punkt_tab is already up-to-date!\n"
     ]
    }
   ],
   "source": [
    "import pandas as pd\n",
    "import nltk\n",
    "nltk.download('stopwords')\n",
    "nltk.download('punkt_tab')\n",
    "from nltk.corpus import stopwords\n",
    "from nltk.tokenize import word_tokenize\n",
    "import re\n",
    "import time\n",
    "from nltk.stem import SnowballStemmer\n",
    "\n",
    "#Visualization\n",
    "import matplotlib.pyplot as plt\n",
    "\n",
    "#Feature Engineering\n",
    "import string\n",
    "import re\n",
    "from sklearn.feature_extraction.text import TfidfVectorizer\n",
    "from sklearn.model_selection import train_test_split\n",
    "#Evaluation Metric\n",
    "from sklearn.metrics import accuracy_score, confusion_matrix,f1_score, precision_score,recall_score,classification_report\n",
    "import seaborn as sns\n",
    "from scipy.sparse import csr_matrix"
   ]
  },
  {
   "cell_type": "markdown",
   "id": "e5b37190",
   "metadata": {
    "id": "rZJB1FjqmSx8",
    "papermill": {
     "duration": 0.012907,
     "end_time": "2025-05-11T11:25:18.962438",
     "exception": false,
     "start_time": "2025-05-11T11:25:18.949531",
     "status": "completed"
    },
    "tags": []
   },
   "source": [
    "# Load dữ liệu"
   ]
  },
  {
   "cell_type": "code",
   "execution_count": 2,
   "id": "7bb61a2e",
   "metadata": {
    "execution": {
     "iopub.execute_input": "2025-05-11T11:25:18.978522Z",
     "iopub.status.busy": "2025-05-11T11:25:18.977925Z",
     "iopub.status.idle": "2025-05-11T11:25:19.145561Z",
     "shell.execute_reply": "2025-05-11T11:25:19.144527Z"
    },
    "id": "huvYoKDwlLpW",
    "papermill": {
     "duration": 0.177686,
     "end_time": "2025-05-11T11:25:19.147881",
     "exception": false,
     "start_time": "2025-05-11T11:25:18.970195",
     "status": "completed"
    },
    "tags": []
   },
   "outputs": [],
   "source": [
    "df = pd.read_csv(\"https://media.githubusercontent.com/media/PTIT-Assignment-Projects/ai-svm-email-spam/refs/heads/main/dataset/sampled_dataset2000.csv\")"
   ]
  },
  {
   "cell_type": "markdown",
   "id": "eb1cc71d",
   "metadata": {
    "id": "iUVkRXsEmOKL",
    "papermill": {
     "duration": 0.006876,
     "end_time": "2025-05-11T11:25:19.161671",
     "exception": false,
     "start_time": "2025-05-11T11:25:19.154795",
     "status": "completed"
    },
    "tags": []
   },
   "source": [
    "# Import thư viện"
   ]
  },
  {
   "cell_type": "code",
   "execution_count": 3,
   "id": "e6703648",
   "metadata": {
    "execution": {
     "iopub.execute_input": "2025-05-11T11:25:19.176621Z",
     "iopub.status.busy": "2025-05-11T11:25:19.176177Z",
     "iopub.status.idle": "2025-05-11T11:25:19.205204Z",
     "shell.execute_reply": "2025-05-11T11:25:19.203582Z"
    },
    "id": "Zqce-n1hmMvG",
    "outputId": "82e1de2b-e617-461f-af7b-77fdec6010ca",
    "papermill": {
     "duration": 0.03943,
     "end_time": "2025-05-11T11:25:19.207735",
     "exception": false,
     "start_time": "2025-05-11T11:25:19.168305",
     "status": "completed"
    },
    "tags": []
   },
   "outputs": [
    {
     "data": {
      "text/html": [
       "<div>\n",
       "<style scoped>\n",
       "    .dataframe tbody tr th:only-of-type {\n",
       "        vertical-align: middle;\n",
       "    }\n",
       "\n",
       "    .dataframe tbody tr th {\n",
       "        vertical-align: top;\n",
       "    }\n",
       "\n",
       "    .dataframe thead th {\n",
       "        text-align: right;\n",
       "    }\n",
       "</style>\n",
       "<table border=\"1\" class=\"dataframe\">\n",
       "  <thead>\n",
       "    <tr style=\"text-align: right;\">\n",
       "      <th></th>\n",
       "      <th>label</th>\n",
       "      <th>text</th>\n",
       "    </tr>\n",
       "  </thead>\n",
       "  <tbody>\n",
       "    <tr>\n",
       "      <th>0</th>\n",
       "      <td>1</td>\n",
       "      <td>wireless optical\\n3 - button scroll mouse\\nlim...</td>\n",
       "    </tr>\n",
       "    <tr>\n",
       "      <th>1</th>\n",
       "      <td>1</td>\n",
       "      <td>from the desk of philip moore\\ndept credit con...</td>\n",
       "    </tr>\n",
       "    <tr>\n",
       "      <th>2</th>\n",
       "      <td>1</td>\n",
       "      <td>submitting your website in search engines may ...</td>\n",
       "    </tr>\n",
       "    <tr>\n",
       "      <th>3</th>\n",
       "      <td>1</td>\n",
       "      <td>managers wanted inc escapenumber company is lo...</td>\n",
       "    </tr>\n",
       "    <tr>\n",
       "      <th>4</th>\n",
       "      <td>1</td>\n",
       "      <td>anatrim an extremely efficient flesh loss blen...</td>\n",
       "    </tr>\n",
       "  </tbody>\n",
       "</table>\n",
       "</div>"
      ],
      "text/plain": [
       "   label                                               text\n",
       "0      1  wireless optical\\n3 - button scroll mouse\\nlim...\n",
       "1      1  from the desk of philip moore\\ndept credit con...\n",
       "2      1  submitting your website in search engines may ...\n",
       "3      1  managers wanted inc escapenumber company is lo...\n",
       "4      1  anatrim an extremely efficient flesh loss blen..."
      ]
     },
     "execution_count": 3,
     "metadata": {},
     "output_type": "execute_result"
    }
   ],
   "source": [
    "df.head()"
   ]
  },
  {
   "cell_type": "code",
   "execution_count": 4,
   "id": "ced7c34c",
   "metadata": {
    "execution": {
     "iopub.execute_input": "2025-05-11T11:25:19.224243Z",
     "iopub.status.busy": "2025-05-11T11:25:19.223895Z",
     "iopub.status.idle": "2025-05-11T11:25:19.231154Z",
     "shell.execute_reply": "2025-05-11T11:25:19.229956Z"
    },
    "id": "RTlRGHwaoJ91",
    "outputId": "bc715280-98f9-4608-bc86-be37ef5f09d0",
    "papermill": {
     "duration": 0.018199,
     "end_time": "2025-05-11T11:25:19.233208",
     "exception": false,
     "start_time": "2025-05-11T11:25:19.215009",
     "status": "completed"
    },
    "tags": []
   },
   "outputs": [
    {
     "data": {
      "text/plain": [
       "(2000, 2)"
      ]
     },
     "execution_count": 4,
     "metadata": {},
     "output_type": "execute_result"
    }
   ],
   "source": [
    "df.shape"
   ]
  },
  {
   "cell_type": "markdown",
   "id": "aa462931",
   "metadata": {
    "id": "g_A-GjJsnfU2",
    "papermill": {
     "duration": 0.007037,
     "end_time": "2025-05-11T11:25:19.255430",
     "exception": false,
     "start_time": "2025-05-11T11:25:19.248393",
     "status": "completed"
    },
    "tags": []
   },
   "source": [
    "## Kiểm tra dữ liệu"
   ]
  },
  {
   "cell_type": "markdown",
   "id": "6d717a61",
   "metadata": {
    "id": "41EV-lDSoBMj",
    "papermill": {
     "duration": 0.006455,
     "end_time": "2025-05-11T11:25:19.269164",
     "exception": false,
     "start_time": "2025-05-11T11:25:19.262709",
     "status": "completed"
    },
    "tags": []
   },
   "source": [
    "### Kiểm tra dữ liệu bị thiếu"
   ]
  },
  {
   "cell_type": "code",
   "execution_count": 5,
   "id": "0ed582e5",
   "metadata": {
    "execution": {
     "iopub.execute_input": "2025-05-11T11:25:19.284197Z",
     "iopub.status.busy": "2025-05-11T11:25:19.283813Z",
     "iopub.status.idle": "2025-05-11T11:25:19.293095Z",
     "shell.execute_reply": "2025-05-11T11:25:19.292207Z"
    },
    "id": "zT0Z2S8PmWkR",
    "outputId": "fbfbec99-59f2-479a-bc1d-5b73c0b88092",
    "papermill": {
     "duration": 0.018831,
     "end_time": "2025-05-11T11:25:19.294864",
     "exception": false,
     "start_time": "2025-05-11T11:25:19.276033",
     "status": "completed"
    },
    "tags": []
   },
   "outputs": [
    {
     "data": {
      "text/plain": [
       "label    0\n",
       "text     0\n",
       "dtype: int64"
      ]
     },
     "execution_count": 5,
     "metadata": {},
     "output_type": "execute_result"
    }
   ],
   "source": [
    "df.isnull().sum()"
   ]
  },
  {
   "cell_type": "markdown",
   "id": "14af5ff0",
   "metadata": {
    "id": "JNgKTs1moD7J",
    "papermill": {
     "duration": 0.006883,
     "end_time": "2025-05-11T11:25:19.308913",
     "exception": false,
     "start_time": "2025-05-11T11:25:19.302030",
     "status": "completed"
    },
    "tags": []
   },
   "source": [
    "### Kiểm tra dữ liệu trùng lặp"
   ]
  },
  {
   "cell_type": "code",
   "execution_count": 6,
   "id": "83ae9ed1",
   "metadata": {
    "execution": {
     "iopub.execute_input": "2025-05-11T11:25:19.324092Z",
     "iopub.status.busy": "2025-05-11T11:25:19.323774Z",
     "iopub.status.idle": "2025-05-11T11:25:19.350593Z",
     "shell.execute_reply": "2025-05-11T11:25:19.349378Z"
    },
    "id": "NCkaqXbsn8ta",
    "outputId": "de608c2d-cb32-4d83-bb53-659172479412",
    "papermill": {
     "duration": 0.036504,
     "end_time": "2025-05-11T11:25:19.352364",
     "exception": false,
     "start_time": "2025-05-11T11:25:19.315860",
     "status": "completed"
    },
    "tags": []
   },
   "outputs": [
    {
     "data": {
      "text/plain": [
       "0"
      ]
     },
     "execution_count": 6,
     "metadata": {},
     "output_type": "execute_result"
    }
   ],
   "source": [
    "df.duplicated().sum()"
   ]
  },
  {
   "cell_type": "markdown",
   "id": "f98b69ac",
   "metadata": {
    "id": "BdUFo2ecpD_z",
    "papermill": {
     "duration": 0.006892,
     "end_time": "2025-05-11T11:25:19.366722",
     "exception": false,
     "start_time": "2025-05-11T11:25:19.359830",
     "status": "completed"
    },
    "tags": []
   },
   "source": [
    "## EDA"
   ]
  },
  {
   "cell_type": "markdown",
   "id": "482af0f2",
   "metadata": {
    "id": "HJJD68a4pJmE",
    "papermill": {
     "duration": 0.00653,
     "end_time": "2025-05-11T11:25:19.380317",
     "exception": false,
     "start_time": "2025-05-11T11:25:19.373787",
     "status": "completed"
    },
    "tags": []
   },
   "source": [
    "### Tỉ lệ email spam / không spam"
   ]
  },
  {
   "cell_type": "code",
   "execution_count": 7,
   "id": "b39d534d",
   "metadata": {
    "execution": {
     "iopub.execute_input": "2025-05-11T11:25:19.395533Z",
     "iopub.status.busy": "2025-05-11T11:25:19.395200Z",
     "iopub.status.idle": "2025-05-11T11:25:19.403622Z",
     "shell.execute_reply": "2025-05-11T11:25:19.402363Z"
    },
    "id": "dPioGue3pvY9",
    "outputId": "eefe8005-7945-4104-9ac8-fef79adba564",
    "papermill": {
     "duration": 0.018481,
     "end_time": "2025-05-11T11:25:19.405876",
     "exception": false,
     "start_time": "2025-05-11T11:25:19.387395",
     "status": "completed"
    },
    "tags": []
   },
   "outputs": [
    {
     "name": "stdout",
     "output_type": "stream",
     "text": [
      "label\n",
      "1    1052\n",
      "0     948\n",
      "Name: count, dtype: int64\n"
     ]
    }
   ],
   "source": [
    "label_counts = df['label'].value_counts()\n",
    "print(label_counts)"
   ]
  },
  {
   "cell_type": "code",
   "execution_count": 8,
   "id": "650d81cc",
   "metadata": {
    "execution": {
     "iopub.execute_input": "2025-05-11T11:25:19.431363Z",
     "iopub.status.busy": "2025-05-11T11:25:19.430930Z",
     "iopub.status.idle": "2025-05-11T11:25:19.649321Z",
     "shell.execute_reply": "2025-05-11T11:25:19.648442Z"
    },
    "id": "17elIHYMoIqZ",
    "outputId": "1c9539e7-13db-41ef-b665-f3fdbb7001ac",
    "papermill": {
     "duration": 0.231677,
     "end_time": "2025-05-11T11:25:19.650885",
     "exception": false,
     "start_time": "2025-05-11T11:25:19.419208",
     "status": "completed"
    },
    "tags": []
   },
   "outputs": [
    {
     "data": {
      "image/png": "[encoded data removed]",
      "text/plain": [
       "<Figure size 640x480 with 1 Axes>"
      ]
     },
     "metadata": {},
     "output_type": "display_data"
    }
   ],
   "source": [
    "sns.countplot(x='label', data=df)\n",
    "plt.show()"
   ]
  },
  {
   "cell_type": "code",
   "execution_count": 9,
   "id": "885f1dd8",
   "metadata": {
    "execution": {
     "iopub.execute_input": "2025-05-11T11:25:19.667109Z",
     "iopub.status.busy": "2025-05-11T11:25:19.666809Z",
     "iopub.status.idle": "2025-05-11T11:25:19.754761Z",
     "shell.execute_reply": "2025-05-11T11:25:19.753892Z"
    },
    "id": "6lqa7GfsptTb",
    "outputId": "326bf6e3-f326-450e-a5a6-2999ca7360dc",
    "papermill": {
     "duration": 0.097898,
     "end_time": "2025-05-11T11:25:19.756381",
     "exception": false,
     "start_time": "2025-05-11T11:25:19.658483",
     "status": "completed"
    },
    "tags": []
   },
   "outputs": [
    {
     "data": {
      "image/png": "[encoded data removed]",
      "text/plain": [
       "<Figure size 640x480 with 1 Axes>"
      ]
     },
     "metadata": {},
     "output_type": "display_data"
    }
   ],
   "source": [
    "labels = {\n",
    "    0: 'Not Spam',\n",
    "    1: 'Spam'\n",
    "}\n",
    "plt.pie(label_counts, labels = labels.values(), autopct = \"%.2f%%\")\n",
    "plt.show()"
   ]
  },
  {
   "cell_type": "markdown",
   "id": "b79e546d",
   "metadata": {
    "id": "KBksDTa0wRa4",
    "papermill": {
     "duration": 0.008493,
     "end_time": "2025-05-11T11:25:19.773033",
     "exception": false,
     "start_time": "2025-05-11T11:25:19.764540",
     "status": "completed"
    },
    "tags": []
   },
   "source": [
    "# Tiền xử lý dữ liệu\n"
   ]
  },
  {
   "cell_type": "markdown",
   "id": "87f02313",
   "metadata": {
    "id": "eQIzzQ1HxHP2",
    "papermill": {
     "duration": 0.007541,
     "end_time": "2025-05-11T11:25:19.788484",
     "exception": false,
     "start_time": "2025-05-11T11:25:19.780943",
     "status": "completed"
    },
    "tags": []
   },
   "source": [
    "## Xoá những ký tự đặc biệt và số"
   ]
  },
  {
   "cell_type": "code",
   "execution_count": 10,
   "id": "5a9f0ce3",
   "metadata": {
    "execution": {
     "iopub.execute_input": "2025-05-11T11:25:19.871448Z",
     "iopub.status.busy": "2025-05-11T11:25:19.871136Z",
     "iopub.status.idle": "2025-05-11T11:25:19.875544Z",
     "shell.execute_reply": "2025-05-11T11:25:19.874650Z"
    },
    "id": "bunPqOKYqAE5",
    "papermill": {
     "duration": 0.080696,
     "end_time": "2025-05-11T11:25:19.877025",
     "exception": false,
     "start_time": "2025-05-11T11:25:19.796329",
     "status": "completed"
    },
    "tags": []
   },
   "outputs": [],
   "source": [
    "def remove_special_characters(word):\n",
    "    return re.sub(r'[^a-zA-Z\\s]', '', word)"
   ]
  },
  {
   "cell_type": "code",
   "execution_count": 11,
   "id": "c20ca33b",
   "metadata": {
    "execution": {
     "iopub.execute_input": "2025-05-11T11:25:19.895255Z",
     "iopub.status.busy": "2025-05-11T11:25:19.894959Z",
     "iopub.status.idle": "2025-05-11T11:25:19.900272Z",
     "shell.execute_reply": "2025-05-11T11:25:19.899111Z"
    },
    "id": "uRQwm3rWxp-o",
    "outputId": "20043a79-fc85-4e1f-98ce-f231df518b40",
    "papermill": {
     "duration": 0.01642,
     "end_time": "2025-05-11T11:25:19.901933",
     "exception": false,
     "start_time": "2025-05-11T11:25:19.885513",
     "status": "completed"
    },
    "tags": []
   },
   "outputs": [
    {
     "name": "stdout",
     "output_type": "stream",
     "text": [
      "Hello everyone  I am happy to meet  of us my email is admingmailcom\n"
     ]
    }
   ],
   "source": [
    "text = 'Hello everyone ! I am happy to meet 3 of us, my email is admin@gmail.com'\n",
    "print(remove_special_characters(text))"
   ]
  },
  {
   "cell_type": "markdown",
   "id": "8ef111cf",
   "metadata": {
    "id": "vB5C_JyrzTZG",
    "papermill": {
     "duration": 0.00817,
     "end_time": "2025-05-11T11:25:19.918514",
     "exception": false,
     "start_time": "2025-05-11T11:25:19.910344",
     "status": "completed"
    },
    "tags": []
   },
   "source": [
    "## Xoá những stop words trong câu\n",
    "\n",
    "https://www.coursera.org/articles/what-are-stop-words\n",
    "\n",
    "\n",
    "https://www.geeksforgeeks.org/removing-stop-words-nltk-python/"
   ]
  },
  {
   "cell_type": "code",
   "execution_count": 12,
   "id": "1b89e659",
   "metadata": {
    "execution": {
     "iopub.execute_input": "2025-05-11T11:25:19.936336Z",
     "iopub.status.busy": "2025-05-11T11:25:19.936023Z",
     "iopub.status.idle": "2025-05-11T11:25:19.943190Z",
     "shell.execute_reply": "2025-05-11T11:25:19.942211Z"
    },
    "id": "hn8zY93CysGv",
    "papermill": {
     "duration": 0.018375,
     "end_time": "2025-05-11T11:25:19.945092",
     "exception": false,
     "start_time": "2025-05-11T11:25:19.926717",
     "status": "completed"
    },
    "tags": []
   },
   "outputs": [],
   "source": [
    "ENGLISH_STOP_WORDS = set(stopwords.words('english'))\n"
   ]
  },
  {
   "cell_type": "code",
   "execution_count": 13,
   "id": "9df7b7fa",
   "metadata": {
    "execution": {
     "iopub.execute_input": "2025-05-11T11:25:19.963470Z",
     "iopub.status.busy": "2025-05-11T11:25:19.962550Z",
     "iopub.status.idle": "2025-05-11T11:25:19.967508Z",
     "shell.execute_reply": "2025-05-11T11:25:19.966565Z"
    },
    "id": "kDAHPiJex1nD",
    "papermill": {
     "duration": 0.015478,
     "end_time": "2025-05-11T11:25:19.969059",
     "exception": false,
     "start_time": "2025-05-11T11:25:19.953581",
     "status": "completed"
    },
    "tags": []
   },
   "outputs": [],
   "source": [
    "def remove_stop_words(words):\n",
    "    return [word for word in words if word not in ENGLISH_STOP_WORDS]"
   ]
  },
  {
   "cell_type": "code",
   "execution_count": 14,
   "id": "7812ea00",
   "metadata": {
    "execution": {
     "iopub.execute_input": "2025-05-11T11:25:19.986804Z",
     "iopub.status.busy": "2025-05-11T11:25:19.986121Z",
     "iopub.status.idle": "2025-05-11T11:25:19.991776Z",
     "shell.execute_reply": "2025-05-11T11:25:19.990799Z"
    },
    "id": "Nz7C1O0-zweG",
    "outputId": "d71fae1d-c751-40d2-fbce-04e10dfd8242",
    "papermill": {
     "duration": 0.016023,
     "end_time": "2025-05-11T11:25:19.993190",
     "exception": false,
     "start_time": "2025-05-11T11:25:19.977167",
     "status": "completed"
    },
    "tags": []
   },
   "outputs": [
    {
     "name": "stdout",
     "output_type": "stream",
     "text": [
      "Hello everyone ! I happy meet 3 us, email admin@gmail.com\n"
     ]
    }
   ],
   "source": [
    "print(' '.join(remove_stop_words(text.split())))"
   ]
  },
  {
   "cell_type": "markdown",
   "id": "2d3a359a",
   "metadata": {
    "id": "90m3sAWy1Q1m",
    "papermill": {
     "duration": 0.008838,
     "end_time": "2025-05-11T11:25:20.010641",
     "exception": false,
     "start_time": "2025-05-11T11:25:20.001803",
     "status": "completed"
    },
    "tags": []
   },
   "source": [
    "## Xoá các link website trong câu"
   ]
  },
  {
   "cell_type": "code",
   "execution_count": 15,
   "id": "f9890fe9",
   "metadata": {
    "execution": {
     "iopub.execute_input": "2025-05-11T11:25:20.029279Z",
     "iopub.status.busy": "2025-05-11T11:25:20.028951Z",
     "iopub.status.idle": "2025-05-11T11:25:20.034153Z",
     "shell.execute_reply": "2025-05-11T11:25:20.033233Z"
    },
    "id": "KlNpr7dPzzP6",
    "papermill": {
     "duration": 0.016096,
     "end_time": "2025-05-11T11:25:20.035865",
     "exception": false,
     "start_time": "2025-05-11T11:25:20.019769",
     "status": "completed"
    },
    "tags": []
   },
   "outputs": [],
   "source": [
    "def remove_url(word):\n",
    "    return re.sub(r\"http\\S+\", \"\", word)"
   ]
  },
  {
   "cell_type": "code",
   "execution_count": 16,
   "id": "69906fc2",
   "metadata": {
    "execution": {
     "iopub.execute_input": "2025-05-11T11:25:20.056183Z",
     "iopub.status.busy": "2025-05-11T11:25:20.055873Z",
     "iopub.status.idle": "2025-05-11T11:25:20.061762Z",
     "shell.execute_reply": "2025-05-11T11:25:20.060295Z"
    },
    "id": "yU9iROAF6x9S",
    "outputId": "925a19d9-f847-483d-edc3-ecae8aa4cf18",
    "papermill": {
     "duration": 0.018485,
     "end_time": "2025-05-11T11:25:20.063369",
     "exception": false,
     "start_time": "2025-05-11T11:25:20.044884",
     "status": "completed"
    },
    "tags": []
   },
   "outputs": [
    {
     "name": "stdout",
     "output_type": "stream",
     "text": [
      "My websites are  and \n"
     ]
    }
   ],
   "source": [
    "text = 'My websites are https://google.com and https://reddit.com'\n",
    "print(remove_url(text))"
   ]
  },
  {
   "cell_type": "markdown",
   "id": "5f1f30bb",
   "metadata": {
    "id": "JXRB_pB17BEj",
    "papermill": {
     "duration": 0.007932,
     "end_time": "2025-05-11T11:25:20.079778",
     "exception": false,
     "start_time": "2025-05-11T11:25:20.071846",
     "status": "completed"
    },
    "tags": []
   },
   "source": [
    "## Áp dụng vào data\n",
    "\n",
    "https://www.nltk.org/api/nltk.tokenize.word_tokenize.html\n",
    "https://www.geeksforgeeks.org/python-nltk-nltk-tokenizer-word_tokenize/\n",
    "\n",
    "https://www.geeksforgeeks.org/tokenize-text-using-nltk-python/\n"
   ]
  },
  {
   "cell_type": "code",
   "execution_count": 17,
   "id": "cd1ea5b9",
   "metadata": {
    "execution": {
     "iopub.execute_input": "2025-05-11T11:25:20.097340Z",
     "iopub.status.busy": "2025-05-11T11:25:20.097045Z",
     "iopub.status.idle": "2025-05-11T11:25:21.862920Z",
     "shell.execute_reply": "2025-05-11T11:25:21.862068Z"
    },
    "id": "b5Cjg0AV67Mc",
    "papermill": {
     "duration": 1.776802,
     "end_time": "2025-05-11T11:25:21.864679",
     "exception": false,
     "start_time": "2025-05-11T11:25:20.087877",
     "status": "completed"
    },
    "tags": []
   },
   "outputs": [],
   "source": [
    "df['text'] = df['text'].apply(remove_special_characters)\n",
    "df['text'] = df['text'].apply(remove_url)\n",
    "df['text'] = df['text'].apply(word_tokenize)\n",
    "df['text'] = df['text'].apply(remove_stop_words)\n",
    "df['text'] = df['text'].apply(' '.join)"
   ]
  },
  {
   "cell_type": "code",
   "execution_count": 18,
   "id": "27bd25a5",
   "metadata": {
    "execution": {
     "iopub.execute_input": "2025-05-11T11:25:21.883189Z",
     "iopub.status.busy": "2025-05-11T11:25:21.882864Z",
     "iopub.status.idle": "2025-05-11T11:25:21.891593Z",
     "shell.execute_reply": "2025-05-11T11:25:21.890727Z"
    },
    "id": "V9sjcMyRBtrw",
    "outputId": "4d71c852-3c72-4d42-8aa7-e761262d693b",
    "papermill": {
     "duration": 0.019616,
     "end_time": "2025-05-11T11:25:21.893145",
     "exception": false,
     "start_time": "2025-05-11T11:25:21.873529",
     "status": "completed"
    },
    "tags": []
   },
   "outputs": [
    {
     "data": {
      "text/html": [
       "<div>\n",
       "<style scoped>\n",
       "    .dataframe tbody tr th:only-of-type {\n",
       "        vertical-align: middle;\n",
       "    }\n",
       "\n",
       "    .dataframe tbody tr th {\n",
       "        vertical-align: top;\n",
       "    }\n",
       "\n",
       "    .dataframe thead th {\n",
       "        text-align: right;\n",
       "    }\n",
       "</style>\n",
       "<table border=\"1\" class=\"dataframe\">\n",
       "  <thead>\n",
       "    <tr style=\"text-align: right;\">\n",
       "      <th></th>\n",
       "      <th>label</th>\n",
       "      <th>text</th>\n",
       "    </tr>\n",
       "  </thead>\n",
       "  <tbody>\n",
       "    <tr>\n",
       "      <th>0</th>\n",
       "      <td>1</td>\n",
       "      <td>wireless optical button scroll mouse limited s...</td>\n",
       "    </tr>\n",
       "    <tr>\n",
       "      <th>1</th>\n",
       "      <td>1</td>\n",
       "      <td>desk philip moore dept credit control unit uni...</td>\n",
       "    </tr>\n",
       "    <tr>\n",
       "      <th>2</th>\n",
       "      <td>1</td>\n",
       "      <td>submitting website search engines may increase...</td>\n",
       "    </tr>\n",
       "    <tr>\n",
       "      <th>3</th>\n",
       "      <td>1</td>\n",
       "      <td>managers wanted inc escapenumber company looki...</td>\n",
       "    </tr>\n",
       "    <tr>\n",
       "      <th>4</th>\n",
       "      <td>1</td>\n",
       "      <td>anatrim extremely efficient flesh loss blend r...</td>\n",
       "    </tr>\n",
       "  </tbody>\n",
       "</table>\n",
       "</div>"
      ],
      "text/plain": [
       "   label                                               text\n",
       "0      1  wireless optical button scroll mouse limited s...\n",
       "1      1  desk philip moore dept credit control unit uni...\n",
       "2      1  submitting website search engines may increase...\n",
       "3      1  managers wanted inc escapenumber company looki...\n",
       "4      1  anatrim extremely efficient flesh loss blend r..."
      ]
     },
     "execution_count": 18,
     "metadata": {},
     "output_type": "execute_result"
    }
   ],
   "source": [
    "df.head()"
   ]
  },
  {
   "cell_type": "markdown",
   "id": "d0388cc1",
   "metadata": {
    "id": "kXoC40VRCoK-",
    "papermill": {
     "duration": 0.008859,
     "end_time": "2025-05-11T11:25:21.910637",
     "exception": false,
     "start_time": "2025-05-11T11:25:21.901778",
     "status": "completed"
    },
    "tags": []
   },
   "source": [
    "## Snowball Stemmer\n",
    "https://www.geeksforgeeks.org/snowball-stemmer-nlp/"
   ]
  },
  {
   "cell_type": "code",
   "execution_count": 19,
   "id": "4d3d6a36",
   "metadata": {
    "execution": {
     "iopub.execute_input": "2025-05-11T11:25:21.929268Z",
     "iopub.status.busy": "2025-05-11T11:25:21.928943Z",
     "iopub.status.idle": "2025-05-11T11:25:21.934187Z",
     "shell.execute_reply": "2025-05-11T11:25:21.933273Z"
    },
    "id": "PlToIiOaB5AG",
    "papermill": {
     "duration": 0.016324,
     "end_time": "2025-05-11T11:25:21.935888",
     "exception": false,
     "start_time": "2025-05-11T11:25:21.919564",
     "status": "completed"
    },
    "tags": []
   },
   "outputs": [],
   "source": [
    "stemmer = SnowballStemmer('english')\n",
    "\n",
    "def stem_text(text):\n",
    "    tokens = nltk.word_tokenize(text)\n",
    "\n",
    "    stemmed_tokens = [stemmer.stem(token) for token in tokens]\n",
    "\n",
    "    return ' '.join(stemmed_tokens)"
   ]
  },
  {
   "cell_type": "code",
   "execution_count": 20,
   "id": "efab6f7e",
   "metadata": {
    "execution": {
     "iopub.execute_input": "2025-05-11T11:25:21.954789Z",
     "iopub.status.busy": "2025-05-11T11:25:21.953966Z",
     "iopub.status.idle": "2025-05-11T11:25:26.585388Z",
     "shell.execute_reply": "2025-05-11T11:25:26.584346Z"
    },
    "id": "_WKih5c0C-bu",
    "outputId": "c741e95b-88dd-41db-c454-8c0135d1fe7f",
    "papermill": {
     "duration": 4.642471,
     "end_time": "2025-05-11T11:25:26.587041",
     "exception": false,
     "start_time": "2025-05-11T11:25:21.944570",
     "status": "completed"
    },
    "tags": []
   },
   "outputs": [
    {
     "data": {
      "text/html": [
       "<div>\n",
       "<style scoped>\n",
       "    .dataframe tbody tr th:only-of-type {\n",
       "        vertical-align: middle;\n",
       "    }\n",
       "\n",
       "    .dataframe tbody tr th {\n",
       "        vertical-align: top;\n",
       "    }\n",
       "\n",
       "    .dataframe thead th {\n",
       "        text-align: right;\n",
       "    }\n",
       "</style>\n",
       "<table border=\"1\" class=\"dataframe\">\n",
       "  <thead>\n",
       "    <tr style=\"text-align: right;\">\n",
       "      <th></th>\n",
       "      <th>label</th>\n",
       "      <th>text</th>\n",
       "    </tr>\n",
       "  </thead>\n",
       "  <tbody>\n",
       "    <tr>\n",
       "      <th>0</th>\n",
       "      <td>1</td>\n",
       "      <td>wireless optic button scroll mous limit stock ...</td>\n",
       "    </tr>\n",
       "    <tr>\n",
       "      <th>1</th>\n",
       "      <td>1</td>\n",
       "      <td>desk philip moor dept credit control unit unio...</td>\n",
       "    </tr>\n",
       "    <tr>\n",
       "      <th>2</th>\n",
       "      <td>1</td>\n",
       "      <td>submit websit search engin may increas onlin s...</td>\n",
       "    </tr>\n",
       "    <tr>\n",
       "      <th>3</th>\n",
       "      <td>1</td>\n",
       "      <td>manag want inc escapenumb compani look manag g...</td>\n",
       "    </tr>\n",
       "    <tr>\n",
       "      <th>4</th>\n",
       "      <td>1</td>\n",
       "      <td>anatrim extrem effici flesh loss blend readili...</td>\n",
       "    </tr>\n",
       "  </tbody>\n",
       "</table>\n",
       "</div>"
      ],
      "text/plain": [
       "   label                                               text\n",
       "0      1  wireless optic button scroll mous limit stock ...\n",
       "1      1  desk philip moor dept credit control unit unio...\n",
       "2      1  submit websit search engin may increas onlin s...\n",
       "3      1  manag want inc escapenumb compani look manag g...\n",
       "4      1  anatrim extrem effici flesh loss blend readili..."
      ]
     },
     "execution_count": 20,
     "metadata": {},
     "output_type": "execute_result"
    }
   ],
   "source": [
    "df['text'] = df['text'].apply(stem_text)\n",
    "df.head()"
   ]
  },
  {
   "cell_type": "markdown",
   "id": "26d49eb6",
   "metadata": {
    "id": "_Ll9TVk4IVL_",
    "papermill": {
     "duration": 0.008584,
     "end_time": "2025-05-11T11:25:26.604918",
     "exception": false,
     "start_time": "2025-05-11T11:25:26.596334",
     "status": "completed"
    },
    "tags": []
   },
   "source": [
    "## TF-IDF vectorization\n",
    "\n",
    "https://www.geeksforgeeks.org/understanding-tf-idf-term-frequency-inverse-document-frequency/"
   ]
  },
  {
   "cell_type": "code",
   "execution_count": 21,
   "id": "b73c8db8",
   "metadata": {
    "execution": {
     "iopub.execute_input": "2025-05-11T11:25:26.623571Z",
     "iopub.status.busy": "2025-05-11T11:25:26.623237Z",
     "iopub.status.idle": "2025-05-11T11:25:26.967209Z",
     "shell.execute_reply": "2025-05-11T11:25:26.966216Z"
    },
    "id": "CnRnSqcgDAnj",
    "papermill": {
     "duration": 0.35567,
     "end_time": "2025-05-11T11:25:26.969190",
     "exception": false,
     "start_time": "2025-05-11T11:25:26.613520",
     "status": "completed"
    },
    "tags": []
   },
   "outputs": [
    {
     "name": "stdout",
     "output_type": "stream",
     "text": [
      "(2000, 26318)\n"
     ]
    }
   ],
   "source": [
    "vectorizer = TfidfVectorizer()\n",
    "\n",
    "X = vectorizer.fit_transform(df['text'])\n",
    "print(X.shape)\n",
    "\n"
   ]
  },
  {
   "cell_type": "markdown",
   "id": "1c4c3a2a",
   "metadata": {
    "id": "1wwzmZh_zgED",
    "papermill": {
     "duration": 0.008792,
     "end_time": "2025-05-11T11:25:26.987288",
     "exception": false,
     "start_time": "2025-05-11T11:25:26.978496",
     "status": "completed"
    },
    "tags": []
   },
   "source": [
    "# Chuẩn bị dữ liệu train và test"
   ]
  },
  {
   "cell_type": "code",
   "execution_count": 22,
   "id": "fdc4aa1a",
   "metadata": {
    "execution": {
     "iopub.execute_input": "2025-05-11T11:25:27.007219Z",
     "iopub.status.busy": "2025-05-11T11:25:27.006256Z",
     "iopub.status.idle": "2025-05-11T11:25:27.014343Z",
     "shell.execute_reply": "2025-05-11T11:25:27.013326Z"
    },
    "id": "Qw7dlmvSzfVS",
    "papermill": {
     "duration": 0.02024,
     "end_time": "2025-05-11T11:25:27.016348",
     "exception": false,
     "start_time": "2025-05-11T11:25:26.996108",
     "status": "completed"
    },
    "tags": []
   },
   "outputs": [],
   "source": [
    "y = df['label']\n",
    "\n",
    "X_train, X_test, y_train, y_test = train_test_split(X, y, test_size=0.2, random_state=42)"
   ]
  },
  {
   "cell_type": "markdown",
   "id": "47248464",
   "metadata": {
    "id": "1Ex3fuZgNZRx",
    "papermill": {
     "duration": 0.009257,
     "end_time": "2025-05-11T11:25:27.034945",
     "exception": false,
     "start_time": "2025-05-11T11:25:27.025688",
     "status": "completed"
    },
    "tags": []
   },
   "source": [
    "# Viết class SVM"
   ]
  },
  {
   "cell_type": "markdown",
   "id": "9f58c957",
   "metadata": {
    "id": "G_Sjd1-k9UJ4",
    "papermill": {
     "duration": 0.008429,
     "end_time": "2025-05-11T11:25:27.052183",
     "exception": false,
     "start_time": "2025-05-11T11:25:27.043754",
     "status": "completed"
    },
    "tags": []
   },
   "source": [
    "##Import"
   ]
  },
  {
   "cell_type": "code",
   "execution_count": 23,
   "id": "a664e497",
   "metadata": {
    "execution": {
     "iopub.execute_input": "2025-05-11T11:25:27.071550Z",
     "iopub.status.busy": "2025-05-11T11:25:27.071183Z",
     "iopub.status.idle": "2025-05-11T11:25:27.076732Z",
     "shell.execute_reply": "2025-05-11T11:25:27.075753Z"
    },
    "id": "iodR5adw-YyG",
    "papermill": {
     "duration": 0.018013,
     "end_time": "2025-05-11T11:25:27.078927",
     "exception": false,
     "start_time": "2025-05-11T11:25:27.060914",
     "status": "completed"
    },
    "tags": []
   },
   "outputs": [],
   "source": [
    "import numpy as np\n",
    "from sklearn.metrics import confusion_matrix, accuracy_score, precision_score, recall_score, f1_score, classification_report\n",
    "import matplotlib.pyplot as plt\n",
    "import seaborn as sns"
   ]
  },
  {
   "cell_type": "markdown",
   "id": "88777756",
   "metadata": {
    "id": "OMeIM4z69jXI",
    "papermill": {
     "duration": 0.008375,
     "end_time": "2025-05-11T11:25:27.096212",
     "exception": false,
     "start_time": "2025-05-11T11:25:27.087837",
     "status": "completed"
    },
    "tags": []
   },
   "source": [
    "##Linear SVM Hard Margin\n"
   ]
  },
  {
   "cell_type": "markdown",
   "id": "147be3e0",
   "metadata": {
    "id": "HS2wR2HYzfQi",
    "papermill": {
     "duration": 0.008397,
     "end_time": "2025-05-11T11:25:27.113337",
     "exception": false,
     "start_time": "2025-05-11T11:25:27.104940",
     "status": "completed"
    },
    "tags": []
   },
   "source": [
    "### Lý thuyết\n"
   ]
  },
  {
   "cell_type": "code",
   "execution_count": 24,
   "id": "58005763",
   "metadata": {
    "execution": {
     "iopub.execute_input": "2025-05-11T11:25:27.131868Z",
     "iopub.status.busy": "2025-05-11T11:25:27.131552Z",
     "iopub.status.idle": "2025-05-11T11:25:27.140209Z",
     "shell.execute_reply": "2025-05-11T11:25:27.139249Z"
    },
    "id": "cpCk9Kfb-cD2",
    "papermill": {
     "duration": 0.019671,
     "end_time": "2025-05-11T11:25:27.141668",
     "exception": false,
     "start_time": "2025-05-11T11:25:27.121997",
     "status": "completed"
    },
    "tags": []
   },
   "outputs": [],
   "source": [
    "class LinearSVM_HardMargin:\n",
    "    def __init__(self, learning_rate=0.001, lambda_param=0.01, n_iters=1000):\n",
    "        self.lr = learning_rate\n",
    "        self.lambda_param = lambda_param\n",
    "        self.n_iters = n_iters\n",
    "        self.w = None\n",
    "        self.b = None\n",
    "\n",
    "    def fit(self, X, y):\n",
    "\n",
    "        if hasattr(X, \"toarray\"):\n",
    "            X = X.toarray()\n",
    "\n",
    "        n_samples, n_features = X.shape\n",
    "\n",
    "\n",
    "        y_ = np.where(y <= 0, -1, 1)\n",
    "\n",
    "\n",
    "        self.w = np.zeros(n_features)\n",
    "        self.b = 0\n",
    "\n",
    "\n",
    "        for _ in range(self.n_iters):\n",
    "            for idx, x_i in enumerate(X):\n",
    "                condition = y_[idx] * (np.dot(x_i, self.w) - self.b) >= 1\n",
    "                if condition:\n",
    "                    self.w -= self.lr * (2 * self.lambda_param * self.w)\n",
    "                else:\n",
    "                    self.w -= self.lr * (2 * self.lambda_param * self.w - np.dot(x_i, y_[idx]))\n",
    "                    self.b -= self.lr * y_[idx]\n",
    "\n",
    "    def predict(self, X):\n",
    "\n",
    "        if hasattr(X, \"toarray\"):\n",
    "            X = X.toarray()\n",
    "\n",
    "        linear_output = np.dot(X, self.w) - self.b\n",
    "        return np.where(linear_output <= 0, 0, 1)"
   ]
  },
  {
   "cell_type": "markdown",
   "id": "39ba9c54",
   "metadata": {
    "id": "1-uDUo_MH61K",
    "papermill": {
     "duration": 0.008819,
     "end_time": "2025-05-11T11:25:27.159931",
     "exception": false,
     "start_time": "2025-05-11T11:25:27.151112",
     "status": "completed"
    },
    "tags": []
   },
   "source": [
    "## Linear SVM Hard Margin V2 - Dương"
   ]
  },
  {
   "cell_type": "code",
   "execution_count": 25,
   "id": "2851218f",
   "metadata": {
    "execution": {
     "iopub.execute_input": "2025-05-11T11:25:27.179465Z",
     "iopub.status.busy": "2025-05-11T11:25:27.179101Z",
     "iopub.status.idle": "2025-05-11T11:25:27.190953Z",
     "shell.execute_reply": "2025-05-11T11:25:27.189974Z"
    },
    "id": "bNrqjAmgH-ML",
    "papermill": {
     "duration": 0.023815,
     "end_time": "2025-05-11T11:25:27.192650",
     "exception": false,
     "start_time": "2025-05-11T11:25:27.168835",
     "status": "completed"
    },
    "tags": []
   },
   "outputs": [],
   "source": [
    "class HardMarginSVM:\n",
    "    def __init__(self, eta=0.001, epoch=1000, random_state=42):\n",
    "        self.eta = eta\n",
    "        self.epoch = epoch\n",
    "        self.random_state = random_state\n",
    "        self.is_trained = False\n",
    "        self.support_vectors = None\n",
    "\n",
    "    def fit(self, X, y):\n",
    "        if hasattr(X, \"toarray\"):\n",
    "            X = X.toarray()\n",
    "        self.num_samples = X.shape[0]\n",
    "        self.num_features = X.shape[1]\n",
    "        y_unique = np.unique(y)\n",
    "        if len(y_unique) != 2:\n",
    "            raise ValueError(\"Binary classification requires exactly 2 classes\")\n",
    "        if set(y_unique) == {0, 1}:\n",
    "            y = np.where(y == 0, -1, 1)\n",
    "        self.w = np.zeros(self.num_features)\n",
    "        self.b = 0\n",
    "        rgen = np.random.RandomState(self.random_state)\n",
    "        self.alpha = rgen.uniform(low=0.0, high=0.01, size=self.num_samples)\n",
    "        for i in range(self.epoch):\n",
    "            self._cycle(X, y)\n",
    "        sv_indices = np.where(self.alpha != 0)[0]\n",
    "        self.support_vectors = sv_indices\n",
    "        self.w = np.zeros(self.num_features)\n",
    "        for i in sv_indices:\n",
    "            self.w += self.alpha[i] * y[i] * X[i]\n",
    "        bias_sum = 0\n",
    "        for i in sv_indices:\n",
    "            bias_sum += y[i] - np.dot(self.w, X[i])\n",
    "        self.b = bias_sum / len(sv_indices)\n",
    "        self.is_trained = True\n",
    "        return self\n",
    "\n",
    "    def predict(self, X):\n",
    "        if not self.is_trained:\n",
    "            raise Exception('Model not trained yet')\n",
    "        if hasattr(X, \"toarray\"):\n",
    "            X = X.toarray()\n",
    "        decision_values = X @ self.w + self.b\n",
    "        result = np.where(decision_values >= 0, 1, 0)\n",
    "        return result\n",
    "    def _cycle(self, X, y):\n",
    "        y = y.reshape([-1, 1]) #(n,1)\n",
    "        XXT = X @ X.T\n",
    "        H = (y @ y.T) * XXT\n",
    "        grad = np.ones(self.num_samples) - H @ self.alpha\n",
    "        self.alpha += self.eta * grad\n",
    "        self.alpha = np.clip(self.alpha, 0, None)\n"
   ]
  },
  {
   "cell_type": "markdown",
   "id": "2f3580b3",
   "metadata": {
    "id": "NX-1cIYJ-Cr_",
    "papermill": {
     "duration": 0.009351,
     "end_time": "2025-05-11T11:25:27.211444",
     "exception": false,
     "start_time": "2025-05-11T11:25:27.202093",
     "status": "completed"
    },
    "tags": []
   },
   "source": [
    "##SVM tối ưu sử dụng thuật toán Pegasos"
   ]
  },
  {
   "cell_type": "markdown",
   "id": "232a8feb",
   "metadata": {
    "id": "DkpuGAiszhyp",
    "papermill": {
     "duration": 0.008776,
     "end_time": "2025-05-11T11:25:27.229786",
     "exception": false,
     "start_time": "2025-05-11T11:25:27.221010",
     "status": "completed"
    },
    "tags": []
   },
   "source": [
    "### Lý thuyết"
   ]
  },
  {
   "cell_type": "code",
   "execution_count": 26,
   "id": "231670e8",
   "metadata": {
    "execution": {
     "iopub.execute_input": "2025-05-11T11:25:27.251949Z",
     "iopub.status.busy": "2025-05-11T11:25:27.251603Z",
     "iopub.status.idle": "2025-05-11T11:25:27.264924Z",
     "shell.execute_reply": "2025-05-11T11:25:27.263957Z"
    },
    "id": "_k-7XimY-mCO",
    "papermill": {
     "duration": 0.025855,
     "end_time": "2025-05-11T11:25:27.266500",
     "exception": false,
     "start_time": "2025-05-11T11:25:27.240645",
     "status": "completed"
    },
    "tags": []
   },
   "outputs": [],
   "source": [
    "class SVM:\n",
    "    def __init__(self, lambda_param=1e-4, epoch=1000, batch_size=256, tol=1e-4, random_state=42):\n",
    "        self.lambda_param = lambda_param\n",
    "        self.epoch = epoch\n",
    "        self.batch_size = batch_size\n",
    "        self.tol = tol\n",
    "        self.random_state = random_state\n",
    "        self.is_trained = False\n",
    "\n",
    "    def fit(self, X, y):\n",
    "        if hasattr(X, \"toarray\"):\n",
    "            X = csr_matrix(X)\n",
    "\n",
    "        self.num_samples, self.num_features = X.shape\n",
    "\n",
    "        y_unique = np.unique(y)\n",
    "        if len(y_unique) != 2:\n",
    "            raise ValueError(\"Phân loại nhị phân cần 2 nhãn\")\n",
    "        if set(y_unique) == {0, 1}:\n",
    "            y = np.where(y == 0, -1, 1)\n",
    "\n",
    "        self.w = np.zeros(self.num_features, dtype=np.float32)\n",
    "        self.b = 0.0\n",
    "\n",
    "        np.random.seed(self.random_state)\n",
    "        t = 0\n",
    "        previous_objective = float(\"inf\")\n",
    "\n",
    "        for ep in range(1, self.epoch + 1):\n",
    "            indices = np.random.permutation(self.num_samples)\n",
    "            for start in range(0, self.num_samples, self.batch_size):\n",
    "                t += 1\n",
    "                end = start + self.batch_size\n",
    "                batch_idx = indices[start:end]\n",
    "                X_batch = X[batch_idx]\n",
    "                y_batch = y[batch_idx]\n",
    "\n",
    "                eta = 1.0 / (self.lambda_param * t)\n",
    "                margins = y_batch * (X_batch.dot(self.w) + self.b)\n",
    "                mask = margins < 1\n",
    "                self.w *= (1 - eta * self.lambda_param)\n",
    "                if np.any(mask):\n",
    "                    X_violate = X_batch[mask]\n",
    "                    y_violate = y_batch[mask]\n",
    "                    self.w += (eta / self.batch_size) * np.dot(y_violate, X_violate.toarray() if hasattr(X_violate, \"toarray\") else X_violate)\n",
    "                    self.b += (eta / self.batch_size) * np.sum(y_violate)\n",
    "                norm_w = np.linalg.norm(self.w)\n",
    "                factor = min(1, (1.0 / np.sqrt(self.lambda_param)) / (norm_w))\n",
    "                self.w *= factor\n",
    "\n",
    "            decision = X.dot(self.w) + self.b\n",
    "            hinge_losses = np.maximum(0, 1 - y * decision)\n",
    "            objective = 0.5 * self.lambda_param * np.dot(self.w, self.w) + np.mean(hinge_losses)\n",
    "\n",
    "            if ep % 10 == 0:\n",
    "                print(f\"Epoch {ep}, Giá trị hàm mục tiêu: {objective:.4f}\")\n",
    "\n",
    "            if abs(previous_objective - objective) < self.tol:\n",
    "                print(f\"Dừng sớm tại epoch {ep}, giá trị hàm mục tiêu thay đổi: {abs(previous_objective - objective):.6f}\")\n",
    "                break\n",
    "            previous_objective = objective\n",
    "\n",
    "        self.is_trained = True\n",
    "        return self\n",
    "\n",
    "    def predict(self, X):\n",
    "        if not self.is_trained:\n",
    "            raise Exception(\"Mô hình chưa được huấn luỵen\")\n",
    "\n",
    "        if hasattr(X, \"toarray\"):\n",
    "            X = csr_matrix(X)\n",
    "\n",
    "        decision = X.dot(self.w) + self.b\n",
    "        return np.where(decision >= 0, 1, 0)"
   ]
  },
  {
   "cell_type": "markdown",
   "id": "549d779d",
   "metadata": {
    "id": "PGhks36y-JgI",
    "papermill": {
     "duration": 0.009266,
     "end_time": "2025-05-11T11:25:27.285289",
     "exception": false,
     "start_time": "2025-05-11T11:25:27.276023",
     "status": "completed"
    },
    "tags": []
   },
   "source": [
    "##Đánh giá"
   ]
  },
  {
   "cell_type": "code",
   "execution_count": 27,
   "id": "b8117f07",
   "metadata": {
    "execution": {
     "iopub.execute_input": "2025-05-11T11:25:27.305277Z",
     "iopub.status.busy": "2025-05-11T11:25:27.304988Z",
     "iopub.status.idle": "2025-05-11T11:25:27.311235Z",
     "shell.execute_reply": "2025-05-11T11:25:27.310022Z"
    },
    "id": "cn5MnZ2i-okm",
    "papermill": {
     "duration": 0.018876,
     "end_time": "2025-05-11T11:25:27.313108",
     "exception": false,
     "start_time": "2025-05-11T11:25:27.294232",
     "status": "completed"
    },
    "tags": []
   },
   "outputs": [],
   "source": [
    "def evaluate_model(model, X_test, y_test, model_name=\"Model\"):\n",
    "    y_pred = model.predict(X_test)\n",
    "    accuracy = accuracy_score(y_test, y_pred)\n",
    "    precision = precision_score(y_test, y_pred)\n",
    "    recall = recall_score(y_test, y_pred)\n",
    "    f1 = f1_score(y_test, y_pred)\n",
    "    print(f\"===== Kết quả đánh giá {model_name} =====\")\n",
    "    print(f\"Accuracy: {accuracy:.4f}\")\n",
    "    print(f\"Precision: {precision:.4f}\")\n",
    "    print(f\"Recall: {recall:.4f}\")\n",
    "    print(f\"F1-score: {f1:.4f}\")\n",
    "    print(\"\\nBáo cáo chi tiết:\")\n",
    "    print(classification_report(y_test, y_pred))\n"
   ]
  },
  {
   "cell_type": "markdown",
   "id": "5e7195e0",
   "metadata": {
    "id": "X2lm8LCZ-Pm-",
    "papermill": {
     "duration": 0.008859,
     "end_time": "2025-05-11T11:25:27.331316",
     "exception": false,
     "start_time": "2025-05-11T11:25:27.322457",
     "status": "completed"
    },
    "tags": []
   },
   "source": [
    "##Thực thi và so sánh mô hình"
   ]
  },
  {
   "cell_type": "code",
   "execution_count": 28,
   "id": "8b1d1844",
   "metadata": {
    "execution": {
     "iopub.execute_input": "2025-05-11T11:25:27.351181Z",
     "iopub.status.busy": "2025-05-11T11:25:27.350822Z",
     "iopub.status.idle": "2025-05-11T11:42:38.416995Z",
     "shell.execute_reply": "2025-05-11T11:42:38.415745Z"
    },
    "id": "dPUF8MgUYQGN",
    "papermill": {
     "duration": 1031.086544,
     "end_time": "2025-05-11T11:42:38.426996",
     "exception": false,
     "start_time": "2025-05-11T11:25:27.340452",
     "status": "completed"
    },
    "tags": []
   },
   "outputs": [
    {
     "name": "stdout",
     "output_type": "stream",
     "text": [
      "Đang huấn luyện SVM...\n",
      "Thời gian chạy:  1030.955427646637\n",
      "\n",
      "=== Đánh giá Hard Margin SVM ===\n",
      "===== Kết quả đánh giá Hard Margin SVM =====\n",
      "Accuracy: 0.9450\n",
      "Precision: 0.9375\n",
      "Recall: 0.9559\n",
      "F1-score: 0.9466\n",
      "\n",
      "Báo cáo chi tiết:\n",
      "              precision    recall  f1-score   support\n",
      "\n",
      "           0       0.95      0.93      0.94       196\n",
      "           1       0.94      0.96      0.95       204\n",
      "\n",
      "    accuracy                           0.94       400\n",
      "   macro avg       0.95      0.94      0.94       400\n",
      "weighted avg       0.95      0.94      0.94       400\n",
      "\n"
     ]
    }
   ],
   "source": [
    "print(\"Đang huấn luyện SVM...\")\n",
    "start = time.time()\n",
    "svm = HardMarginSVM()\n",
    "svm.fit(X_train, y_train)\n",
    "end = time.time()\n",
    "\n",
    "# print(\"\\n=== Đánh giá Hard Margin SVM ===\")\n",
    "# hard_margin_results = evaluate_model(hard_margin_svm, X_test, y_test, \"Hard Margin SVM\")\n",
    "print(\"Thời gian chạy: \", end - start)\n",
    "print(\"\\n=== Đánh giá Hard Margin SVM ===\")\n",
    "results = evaluate_model(svm, X_test, y_test, \"Hard Margin SVM\")\n"
   ]
  }
 ],
 "metadata": {
  "colab": {
   "provenance": [],
   "toc_visible": true
  },
  "kaggle": {
   "accelerator": "none",
   "dataSources": [],
   "dockerImageVersionId": 31012,
   "isGpuEnabled": false,
   "isInternetEnabled": true,
   "language": "python",
   "sourceType": "notebook"
  },
  "kernelspec": {
   "display_name": "Python 3",
   "name": "python3"
  },
  "language_info": {
   "codemirror_mode": {
    "name": "ipython",
    "version": 3
   },
   "file_extension": ".py",
   "mimetype": "text/x-python",
   "name": "python",
   "nbconvert_exporter": "python",
   "pygments_lexer": "ipython3",
   "version": "3.11.11"
  },
  "papermill": {
   "default_parameters": {},
   "duration": 1050.640592,
   "end_time": "2025-05-11T11:42:39.259341",
   "environment_variables": {},
   "exception": null,
   "input_path": "__notebook__.ipynb",
   "output_path": "__notebook__.ipynb",
   "parameters": {},
   "start_time": "2025-05-11T11:25:08.618749",
   "version": "2.6.0"
  }
 },
 "nbformat": 4,
 "nbformat_minor": 5
}
