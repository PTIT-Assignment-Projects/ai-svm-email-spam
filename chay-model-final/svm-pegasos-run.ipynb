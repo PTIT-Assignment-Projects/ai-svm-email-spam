{
 "cells": [
  {
   "cell_type": "code",
   "execution_count": 1,
   "id": "ec22ca04",
   "metadata": {
    "execution": {
     "iopub.execute_input": "2025-04-14T09:21:11.064069Z",
     "iopub.status.busy": "2025-04-14T09:21:11.063759Z",
     "iopub.status.idle": "2025-04-14T09:21:16.125254Z",
     "shell.execute_reply": "2025-04-14T09:21:16.124317Z"
    },
    "id": "f0O2Yk_GQXHW",
    "papermill": {
     "duration": 5.0669,
     "end_time": "2025-04-14T09:21:16.126964",
     "exception": false,
     "start_time": "2025-04-14T09:21:11.060064",
     "status": "completed"
    },
    "tags": []
   },
   "outputs": [
    {
     "name": "stderr",
     "output_type": "stream",
     "text": [
      "[nltk_data] Downloading package stopwords to /usr/share/nltk_data...\n",
      "[nltk_data]   Package stopwords is already up-to-date!\n",
      "[nltk_data] Downloading package punkt_tab to /usr/share/nltk_data...\n",
      "[nltk_data]   Package punkt_tab is already up-to-date!\n"
     ]
    }
   ],
   "source": [
    "import pandas as pd\n",
    "import nltk\n",
    "import numpy as np\n",
    "nltk.download('stopwords')\n",
    "nltk.download('punkt_tab')\n",
    "from nltk.corpus import stopwords\n",
    "from nltk.tokenize import word_tokenize\n",
    "import re\n",
    "from nltk.stem import SnowballStemmer\n",
    "import time\n",
    "import pickle\n",
    "\n",
    "#Visualization\n",
    "import matplotlib.pyplot as plt\n",
    "\n",
    "#Feature Engineering\n",
    "import string\n",
    "import re\n",
    "from sklearn.feature_extraction.text import TfidfVectorizer\n",
    "from sklearn.model_selection import train_test_split\n",
    "#Evaluation Metric\n",
    "from sklearn.metrics import accuracy_score, confusion_matrix,f1_score, precision_score,recall_score,classification_report\n",
    "import seaborn as sns\n",
    "from scipy.sparse import csr_matrix"
   ]
  },
  {
   "cell_type": "code",
   "execution_count": 2,
   "id": "2608a938",
   "metadata": {
    "execution": {
     "iopub.execute_input": "2025-04-14T09:21:16.133703Z",
     "iopub.status.busy": "2025-04-14T09:21:16.132451Z",
     "iopub.status.idle": "2025-04-14T09:21:16.146028Z",
     "shell.execute_reply": "2025-04-14T09:21:16.145306Z"
    },
    "id": "UZjqEIB2gKyM",
    "papermill": {
     "duration": 0.017888,
     "end_time": "2025-04-14T09:21:16.147516",
     "exception": false,
     "start_time": "2025-04-14T09:21:16.129628",
     "status": "completed"
    },
    "tags": []
   },
   "outputs": [],
   "source": [
    "class SVM:\n",
    "    def __init__(self, lambda_param=1e-4, epoch=1000, batch_size=256, tol=1e-4, random_state=42):\n",
    "        self.lambda_param = lambda_param\n",
    "        self.epoch = epoch\n",
    "        self.batch_size = batch_size\n",
    "        self.tol = tol\n",
    "        self.random_state = random_state\n",
    "        self.is_trained = False\n",
    "\n",
    "    def fit(self, X, y):\n",
    "        if hasattr(X, \"toarray\"):\n",
    "            X = csr_matrix(X)\n",
    "        \n",
    "        self.num_samples, self.num_features = X.shape\n",
    "\n",
    "        y_unique = np.unique(y)\n",
    "        if len(y_unique) != 2:\n",
    "            raise ValueError(\"Phân loại nhị phân cần 2 nhãn\")\n",
    "        if set(y_unique) == {0, 1}:\n",
    "            y = np.where(y == 0, -1, 1)\n",
    "        \n",
    "        self.w = np.zeros(self.num_features, dtype=np.float32)\n",
    "        self.b = 0.0\n",
    "\n",
    "        np.random.seed(self.random_state)\n",
    "        t = 0\n",
    "        previous_objective = float(\"inf\")\n",
    "\n",
    "        for ep in range(1, self.epoch + 1):\n",
    "            indices = np.random.permutation(self.num_samples)\n",
    "            for start in range(0, self.num_samples, self.batch_size):\n",
    "                t += 1\n",
    "                end = start + self.batch_size\n",
    "                batch_idx = indices[start:end]\n",
    "                X_batch = X[batch_idx]\n",
    "                y_batch = y[batch_idx]\n",
    "                \n",
    "                eta = 1.0 / (self.lambda_param * t)\n",
    "                margins = y_batch * (X_batch.dot(self.w) + self.b)\n",
    "                mask = margins < 1\n",
    "                self.w *= (1 - eta * self.lambda_param)\n",
    "                if np.any(mask):\n",
    "                    X_violate = X_batch[mask]\n",
    "                    y_violate = y_batch[mask]\n",
    "                    self.w += (eta / self.batch_size) * np.dot(y_violate, X_violate.toarray() if hasattr(X_violate, \"toarray\") else X_violate)\n",
    "                    self.b += (eta / self.batch_size) * np.sum(y_violate)\n",
    "                norm_w = np.linalg.norm(self.w)\n",
    "                factor = min(1, (1.0 / np.sqrt(self.lambda_param)) / (norm_w))\n",
    "                self.w *= factor\n",
    "\n",
    "            decision = X.dot(self.w) + self.b\n",
    "            hinge_losses = np.maximum(0, 1 - y * decision)\n",
    "            objective = 0.5 * self.lambda_param * np.dot(self.w, self.w) + np.mean(hinge_losses)\n",
    "            \n",
    "            if ep % 10 == 0:\n",
    "                print(f\"Epoch {ep}, Giá trị hàm mục tiêu: {objective:.4f}\")\n",
    "            \n",
    "            if abs(previous_objective - objective) < self.tol:\n",
    "                print(f\"Dừng sớm tại epoch {ep}, giá trị hàm mục tiêu thay đổi: {abs(previous_objective - objective):.6f}\")\n",
    "                break\n",
    "            previous_objective = objective\n",
    "\n",
    "        self.is_trained = True\n",
    "        return self\n",
    "\n",
    "    def predict(self, X):\n",
    "        if not self.is_trained:\n",
    "            raise Exception(\"Mô hình chưa được huấn luỵen\")\n",
    "            \n",
    "        if hasattr(X, \"toarray\"):\n",
    "            X = csr_matrix(X)\n",
    "            \n",
    "        decision = X.dot(self.w) + self.b\n",
    "        return np.where(decision >= 0, 1, 0)\n"
   ]
  },
  {
   "cell_type": "code",
   "execution_count": 3,
   "id": "9b914584",
   "metadata": {
    "execution": {
     "iopub.execute_input": "2025-04-14T09:21:16.152616Z",
     "iopub.status.busy": "2025-04-14T09:21:16.152293Z",
     "iopub.status.idle": "2025-04-14T09:21:16.162324Z",
     "shell.execute_reply": "2025-04-14T09:21:16.161538Z"
    },
    "id": "PMFloxHDPMgT",
    "papermill": {
     "duration": 0.014116,
     "end_time": "2025-04-14T09:21:16.163721",
     "exception": false,
     "start_time": "2025-04-14T09:21:16.149605",
     "status": "completed"
    },
    "tags": []
   },
   "outputs": [],
   "source": [
    "def calc_time_svm():\n",
    "    df = pd.read_csv(f\"https://media.githubusercontent.com/media/PTIT-Assignment-Projects/ai-svm-email-spam/refs/heads/main/dataset/combined_data.csv\")\n",
    "    print(\"Start preprocessing data\")\n",
    "    prep_start_time = time.time()\n",
    "    def remove_special_characters(word):\n",
    "        return re.sub(r'[^a-zA-Z\\s]', '', word)\n",
    "    ENGLISH_STOP_WORDS = set(stopwords.words('english'))\n",
    "    def remove_stop_words(words):\n",
    "        return [word for word in words if word not in ENGLISH_STOP_WORDS]\n",
    "    def remove_url(word):\n",
    "        return re.sub(r\"http\\S+\", \"\", word)\n",
    "    df['text'] = df['text'].apply(remove_special_characters)\n",
    "    df['text'] = df['text'].apply(remove_url)\n",
    "    df['text'] = df['text'].apply(word_tokenize)\n",
    "    df['text'] = df['text'].apply(remove_stop_words)\n",
    "    df['text'] = df['text'].apply(' '.join)\n",
    "    stemmer = SnowballStemmer('english')\n",
    "    def stem_text(text):\n",
    "        tokens = nltk.word_tokenize(text)\n",
    "        stemmed_tokens = [stemmer.stem(token) for token in tokens]\n",
    "        return ' '.join(stemmed_tokens)\n",
    "    df['text'] = df['text'].apply(stem_text)\n",
    "    X = df['text']\n",
    "    y = df['label']\n",
    "    X_train, X_test, y_train, y_test = train_test_split(X, y, test_size=0.2, random_state=1)\n",
    "    vectorizer = TfidfVectorizer()\n",
    "    X_train = vectorizer.fit_transform(X_train)\n",
    "    X_test = vectorizer.transform(X_test)\n",
    "    print(X_train.shape)\n",
    "    print(\"End preprocessing data\")\n",
    "    prep_end_time = time.time()\n",
    "    svm_base = SVM()\n",
    "    start_time = time.time()\n",
    "    svm_base.fit(X_train, y_train)\n",
    "    end_time = time.time()\n",
    "    y_pred = svm_base.predict(X_test)\n",
    "    accuracy = accuracy_score(y_test, y_pred)\n",
    "    f1 = f1_score(y_test, y_pred)\n",
    "    result = {\n",
    "    'class_name': svm_base.__class__.__name__,\n",
    "    'n': len(df),\n",
    "    'time': end_time - start_time,\n",
    "    'prep_time': prep_end_time - prep_start_time ,\n",
    "    'accuracy_score': accuracy,\n",
    "    'f1_score': f1\n",
    "    }\n",
    "    results_df = pd.DataFrame([result])\n",
    "    print(results_df)\n",
    "    results_df.to_csv(f'time.csv', index=False)\n",
    "    model_filename = f'linear_svm.pkl'\n",
    "    vectorizer_filename = f'vectorizer.pkl'\n",
    "    \n",
    "    with open(model_filename, 'wb') as model_file:\n",
    "        pickle.dump(svm_base, model_file)\n",
    "    \n",
    "    with open(vectorizer_filename, 'wb') as vectorizer_file:\n",
    "        pickle.dump(vectorizer, vectorizer_file)"
   ]
  },
  {
   "cell_type": "code",
   "execution_count": 4,
   "id": "6a1dce26",
   "metadata": {
    "execution": {
     "iopub.execute_input": "2025-04-14T09:21:16.168923Z",
     "iopub.status.busy": "2025-04-14T09:21:16.168352Z",
     "iopub.status.idle": "2025-04-14T09:30:25.707311Z",
     "shell.execute_reply": "2025-04-14T09:30:25.706151Z"
    },
    "id": "IcQD3SHrYQFg",
    "papermill": {
     "duration": 549.543241,
     "end_time": "2025-04-14T09:30:25.709029",
     "exception": false,
     "start_time": "2025-04-14T09:21:16.165788",
     "status": "completed"
    },
    "tags": []
   },
   "outputs": [
    {
     "name": "stdout",
     "output_type": "stream",
     "text": [
      "Start preprocessing data\n",
      "(66758, 206343)\n",
      "End preprocessing data\n",
      "Epoch 10, Giá trị hàm mục tiêu: 0.1199\n",
      "Epoch 20, Giá trị hàm mục tiêu: 0.1176\n",
      "Dừng sớm tại epoch 22, giá trị hàm mục tiêu thay đổi: 0.000032\n",
      "  class_name      n        time   prep_time  accuracy_score  f1_score\n",
      "0        SVM  83448  261.033806  283.776974        0.981186  0.982282\n"
     ]
    }
   ],
   "source": [
    "calc_time_svm()"
   ]
  }
 ],
 "metadata": {
  "colab": {
   "provenance": []
  },
  "kaggle": {
   "accelerator": "none",
   "dataSources": [],
   "dockerImageVersionId": 31012,
   "isGpuEnabled": false,
   "isInternetEnabled": true,
   "language": "python",
   "sourceType": "notebook"
  },
  "kernelspec": {
   "display_name": "Python 3",
   "language": "python",
   "name": "python3"
  },
  "language_info": {
   "codemirror_mode": {
    "name": "ipython",
    "version": 3
   },
   "file_extension": ".py",
   "mimetype": "text/x-python",
   "name": "python",
   "nbconvert_exporter": "python",
   "pygments_lexer": "ipython3",
   "version": "3.11.11"
  },
  "papermill": {
   "default_parameters": {},
   "duration": 560.237446,
   "end_time": "2025-04-14T09:30:26.532005",
   "environment_variables": {},
   "exception": null,
   "input_path": "__notebook__.ipynb",
   "output_path": "__notebook__.ipynb",
   "parameters": {},
   "start_time": "2025-04-14T09:21:06.294559",
   "version": "2.6.0"
  }
 },
 "nbformat": 4,
 "nbformat_minor": 5
}
